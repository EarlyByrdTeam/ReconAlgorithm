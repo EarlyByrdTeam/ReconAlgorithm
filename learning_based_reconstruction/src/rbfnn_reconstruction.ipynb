{
 "metadata": {
  "language_info": {
   "codemirror_mode": {
    "name": "ipython",
    "version": 3
   },
   "file_extension": ".py",
   "mimetype": "text/x-python",
   "name": "python",
   "nbconvert_exporter": "python",
   "pygments_lexer": "ipython3",
   "version": "3.8.5-final"
  },
  "orig_nbformat": 2,
  "kernelspec": {
   "name": "python36964bit38de1cc02df948d3b9a63469152fc45c",
   "display_name": "Python 3.6.9 64-bit",
   "language": "python"
  }
 },
 "nbformat": 4,
 "nbformat_minor": 2,
 "cells": [
  {
   "cell_type": "code",
   "execution_count": 17,
   "metadata": {},
   "outputs": [],
   "source": [
    "import numpy as np\n",
    "from keras.models import Sequential\n",
    "from keras.layers.core import Dense\n",
    "from keras.optimizers import RMSprop\n",
    "from sklearn import preprocessing\n",
    "from RBFNN.rbflayer import RBFLayer, InitCentersRandom\n",
    "import matplotlib.pyplot as plt"
   ]
  },
  {
   "source": [
    "Load data into notebook"
   ],
   "cell_type": "markdown",
   "metadata": {}
  },
  {
   "cell_type": "code",
   "execution_count": 18,
   "metadata": {},
   "outputs": [
    {
     "output_type": "stream",
     "name": "stdout",
     "text": [
      "Input shape: (500, 208)\nOutput shape: (500, 576)\n"
     ]
    }
   ],
   "source": [
    "X =  np.genfromtxt('../NN_data/input_test.csv', delimiter=',')\n",
    "Y = np.genfromtxt('../NN_data/output_test.csv', delimiter=',')\n",
    "print(f'Input shape: {X.shape}')\n",
    "print(f'Output shape: {Y.shape}')\n",
    "#Normalize input features\n",
    "X= preprocessing.normalize(X)"
   ]
  },
  {
   "cell_type": "code",
   "execution_count": 25,
   "metadata": {},
   "outputs": [
    {
     "output_type": "stream",
     "name": "stdout",
     "text": [
      "Input validation set shape (Tumor): (500, 208)\nInput validation set shape (No tumor): (500, 208)\n"
     ]
    }
   ],
   "source": [
    "# validation data\n",
    "X_val = np.genfromtxt('../NN_data/input_tumor.csv', delimiter=',')\n",
    "Y_val = np.genfromtxt('../NN_data/output_tumor.csv', delimiter=',')\n",
    "\n",
    "X_valn = np.genfromtxt('../NN_data/input_noTumor.csv', delimiter=',') #n indicates no tumor\n",
    "Y_valn = np.genfromtxt('../NN_data/output_noTumor.csv', delimiter=',')\n",
    "\n",
    "X_valn = preprocessing.normalize(X_valn)\n",
    "X_val = preprocessing.normalize(X_val)\n",
    "\n",
    "print(f'Input validation set shape (Tumor): {X_val.shape}')\n",
    "print(f'Input validation set shape (No tumor): {X_valn.shape}')"
   ]
  },
  {
   "source": [
    "Bulding a model"
   ],
   "cell_type": "markdown",
   "metadata": {}
  },
  {
   "cell_type": "code",
   "execution_count": 35,
   "metadata": {},
   "outputs": [],
   "source": [
    "# RBF_neurons = X.shape[1]**2\n",
    "RBF_neurons = 1000\n",
    "# print(RBF_neurons)\n",
    "model = Sequential()\n",
    "rbflayer = RBFLayer(RBF_neurons ,initializer=InitCentersRandom(X),betas=2.0,input_shape=(X.shape[1],)) #43264 = 208x208. \n",
    "model.add(rbflayer)\n",
    "model.add(Dense(Y.shape[1]))\n",
    "model.compile(loss='mean_squared_error',\n",
    "                  optimizer=RMSprop())"
   ]
  },
  {
   "source": [
    "Training the model"
   ],
   "cell_type": "markdown",
   "metadata": {}
  },
  {
   "cell_type": "code",
   "execution_count": 36,
   "metadata": {},
   "outputs": [
    {
     "output_type": "stream",
     "name": "stdout",
     "text": [
      "Epoch 1/50\n",
      "10/10 [==============================] - 1s 107ms/step - loss: 0.7005\n",
      "Epoch 2/50\n",
      "10/10 [==============================] - 1s 102ms/step - loss: 0.1892\n",
      "Epoch 3/50\n",
      "10/10 [==============================] - 1s 100ms/step - loss: 0.2266\n",
      "Epoch 4/50\n",
      "10/10 [==============================] - 1s 102ms/step - loss: 0.2258\n",
      "Epoch 5/50\n",
      "10/10 [==============================] - 1s 101ms/step - loss: 0.2104\n",
      "Epoch 6/50\n",
      "10/10 [==============================] - 1s 100ms/step - loss: 0.1393\n",
      "Epoch 7/50\n",
      "10/10 [==============================] - 1s 105ms/step - loss: 0.1829\n",
      "Epoch 8/50\n",
      "10/10 [==============================] - 1s 101ms/step - loss: 0.1363\n",
      "Epoch 9/50\n",
      "10/10 [==============================] - 1s 97ms/step - loss: 0.1473\n",
      "Epoch 10/50\n",
      "10/10 [==============================] - 1s 99ms/step - loss: 0.1097\n",
      "Epoch 11/50\n",
      "10/10 [==============================] - 1s 102ms/step - loss: 0.1184\n",
      "Epoch 12/50\n",
      "10/10 [==============================] - 1s 102ms/step - loss: 0.1042\n",
      "Epoch 13/50\n",
      "10/10 [==============================] - 1s 103ms/step - loss: 0.0882\n",
      "Epoch 14/50\n",
      "10/10 [==============================] - 1s 109ms/step - loss: 0.0942\n",
      "Epoch 15/50\n",
      "10/10 [==============================] - 1s 106ms/step - loss: 0.0774\n",
      "Epoch 16/50\n",
      "10/10 [==============================] - 1s 106ms/step - loss: 0.0751\n",
      "Epoch 17/50\n",
      "10/10 [==============================] - 1s 103ms/step - loss: 0.0752\n",
      "Epoch 18/50\n",
      "10/10 [==============================] - 1s 104ms/step - loss: 0.0680\n",
      "Epoch 19/50\n",
      "10/10 [==============================] - 1s 106ms/step - loss: 0.0669\n",
      "Epoch 20/50\n",
      "10/10 [==============================] - 1s 112ms/step - loss: 0.0793\n",
      "Epoch 21/50\n",
      "10/10 [==============================] - 1s 104ms/step - loss: 0.0604\n",
      "Epoch 22/50\n",
      "10/10 [==============================] - 1s 102ms/step - loss: 0.0593\n",
      "Epoch 23/50\n",
      "10/10 [==============================] - 1s 103ms/step - loss: 0.0600\n",
      "Epoch 24/50\n",
      "10/10 [==============================] - 1s 103ms/step - loss: 0.0556\n",
      "Epoch 25/50\n",
      "10/10 [==============================] - 1s 102ms/step - loss: 0.0541\n",
      "Epoch 26/50\n",
      "10/10 [==============================] - 1s 105ms/step - loss: 0.0524\n",
      "Epoch 27/50\n",
      "10/10 [==============================] - 1s 104ms/step - loss: 0.0494\n",
      "Epoch 28/50\n",
      "10/10 [==============================] - 1s 104ms/step - loss: 0.0563\n",
      "Epoch 29/50\n",
      "10/10 [==============================] - 1s 105ms/step - loss: 0.0526\n",
      "Epoch 30/50\n",
      "10/10 [==============================] - 1s 104ms/step - loss: 0.0468\n",
      "Epoch 31/50\n",
      "10/10 [==============================] - 1s 106ms/step - loss: 0.0553\n",
      "Epoch 32/50\n",
      "10/10 [==============================] - 1s 107ms/step - loss: 0.0454\n",
      "Epoch 33/50\n",
      "10/10 [==============================] - 1s 105ms/step - loss: 0.0529\n",
      "Epoch 34/50\n",
      "10/10 [==============================] - 1s 104ms/step - loss: 0.0461\n",
      "Epoch 35/50\n",
      "10/10 [==============================] - 1s 104ms/step - loss: 0.0496\n",
      "Epoch 36/50\n",
      "10/10 [==============================] - 1s 103ms/step - loss: 0.0511\n",
      "Epoch 37/50\n",
      "10/10 [==============================] - 1s 107ms/step - loss: 0.0464\n",
      "Epoch 38/50\n",
      "10/10 [==============================] - 1s 103ms/step - loss: 0.0474\n",
      "Epoch 39/50\n",
      "10/10 [==============================] - 1s 104ms/step - loss: 0.0458\n",
      "Epoch 40/50\n",
      "10/10 [==============================] - 1s 116ms/step - loss: 0.0501\n",
      "Epoch 41/50\n",
      "10/10 [==============================] - 1s 106ms/step - loss: 0.0419\n",
      "Epoch 42/50\n",
      "10/10 [==============================] - 1s 104ms/step - loss: 0.0499\n",
      "Epoch 43/50\n",
      "10/10 [==============================] - 1s 109ms/step - loss: 0.0463\n",
      "Epoch 44/50\n",
      "10/10 [==============================] - 1s 109ms/step - loss: 0.0480\n",
      "Epoch 45/50\n",
      "10/10 [==============================] - 1s 103ms/step - loss: 0.0414\n",
      "Epoch 46/50\n",
      "10/10 [==============================] - 1s 104ms/step - loss: 0.0460\n",
      "Epoch 47/50\n",
      "10/10 [==============================] - 1s 104ms/step - loss: 0.0460\n",
      "Epoch 48/50\n",
      "10/10 [==============================] - 1s 106ms/step - loss: 0.0413\n",
      "Epoch 49/50\n",
      "10/10 [==============================] - 1s 106ms/step - loss: 0.0487\n",
      "Epoch 50/50\n",
      "10/10 [==============================] - 1s 106ms/step - loss: 0.0421\n"
     ]
    },
    {
     "output_type": "execute_result",
     "data": {
      "text/plain": [
       "<tensorflow.python.keras.callbacks.History at 0x7f0fa670b7f0>"
      ]
     },
     "metadata": {},
     "execution_count": 36
    }
   ],
   "source": [
    "model.fit(X,Y,batch_size=50,epochs=50,verbose=1)"
   ]
  },
  {
   "cell_type": "code",
   "execution_count": 37,
   "metadata": {},
   "outputs": [
    {
     "output_type": "stream",
     "name": "stdout",
     "text": [
      "Model: \"sequential_5\"\n_________________________________________________________________\nLayer (type)                 Output Shape              Param #   \n=================================================================\nrbf_layer_5 (RBFLayer)       (None, 1000)              209000    \n_________________________________________________________________\ndense_3 (Dense)              (None, 576)               576576    \n=================================================================\nTotal params: 785,576\nTrainable params: 785,576\nNon-trainable params: 0\n_________________________________________________________________\n"
     ]
    }
   ],
   "source": [
    "model.summary()"
   ]
  },
  {
   "cell_type": "code",
   "execution_count": 38,
   "metadata": {},
   "outputs": [
    {
     "output_type": "stream",
     "name": "stdout",
     "text": [
      "Evaluate on val data (No tumor)\n",
      "16/16 [==============================] - 0s 27ms/step - loss: 0.0354\n",
      "Val loss: 0.03537178784608841\n"
     ]
    }
   ],
   "source": [
    "# Evaluate the model on the test data using `evaluate`\n",
    "print(\"Evaluate on val data (No tumor)\")\n",
    "results = model.evaluate(X_val, Y_val)\n",
    "print(\"Val loss:\", results)"
   ]
  },
  {
   "cell_type": "code",
   "execution_count": 39,
   "metadata": {},
   "outputs": [
    {
     "output_type": "stream",
     "name": "stdout",
     "text": [
      "Evaluate on val data (Tumor)\n",
      "16/16 [==============================] - 0s 27ms/step - loss: 0.0996\n",
      "Val loss 0.0995822325348854\n"
     ]
    }
   ],
   "source": [
    "print(\"Evaluate on val data (Tumor)\")\n",
    "results = model.evaluate(X_valn, Y_valn)\n",
    "print(\"Val loss\", results)"
   ]
  },
  {
   "cell_type": "code",
   "execution_count": 40,
   "metadata": {},
   "outputs": [],
   "source": [
    "# Save model\n",
    "model.save_weights('../models/1000_hidden_neurons.h5')"
   ]
  },
  {
   "cell_type": "code",
   "execution_count": 44,
   "metadata": {},
   "outputs": [
    {
     "output_type": "stream",
     "name": "stdout",
     "text": [
      "Input file: ../NN_data/input_noTumor.csv\nOutput file: ../NN_data/classficicationData/input_noTumor_c.csv\nGenerating classification data from ../NN_data/input_noTumor.csv...\nDone.\nInput file: ../NN_data/input_tumor.csv\nOutput file: ../NN_data/classficicationData/input_tumor_c.csv\nGenerating classification data from ../NN_data/input_tumor.csv...\nDone.\n"
     ]
    }
   ],
   "source": [
    "#Generate data for classification data from available data \n",
    "# %run genClassificationData.py <path/to/availableData> <path/to/output/classificationData> <label>\n",
    "%run genClassificationData.py ../NN_data/input_noTumor.csv ../NN_data/classficicationData/input_noTumor_c.csv 0\n",
    "%run genClassificationData.py ../NN_data/input_tumor.csv ../NN_data/classficicationData/input_tumor_c.csv 1"
   ]
  },
  {
   "source": [
    "Load classification data"
   ],
   "cell_type": "markdown",
   "metadata": {}
  },
  {
   "cell_type": "code",
   "execution_count": null,
   "metadata": {},
   "outputs": [],
   "source": [
    "# X =  np.genfromtxt('../NN_data/classficicationData/input_noTumor_c.csv', delimiter=',')\n",
    "# Y = np.genfromtxt('../NN_data/output_test.csv', delimiter=',')\n",
    "# print(f'Input shape: {X.shape}')\n",
    "# print(f'Output shape: {Y.shape}')\n",
    "# #Normalize input features\n",
    "# X= preprocessing.normalize(X)"
   ]
  }
 ]
}